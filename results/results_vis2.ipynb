{
 "cells": [
  {
   "cell_type": "code",
   "execution_count": 3,
   "metadata": {},
   "outputs": [],
   "source": [
    "import pandas as pd\n",
    "pd.set_option('display.max_columns', None)\n",
    "import pickle\n",
    "import numpy as np\n",
    "from mpl_toolkits.axisartist.parasite_axes import HostAxes, ParasiteAxes\n",
    "import matplotlib.pyplot as plt\n",
    "import time\n",
    "import seaborn as sns"
   ]
  },
  {
   "cell_type": "code",
   "execution_count": 6,
   "metadata": {},
   "outputs": [
    {
     "ename": "TypeError",
     "evalue": "'float' object is not callable",
     "output_type": "error",
     "traceback": [
      "\u001b[0;31m---------------------------------------------------------------------------\u001b[0m",
      "\u001b[0;31mTypeError\u001b[0m                                 Traceback (most recent call last)",
      "\u001b[0;32m<ipython-input-6-66f59bcdad88>\u001b[0m in \u001b[0;36m<module>\u001b[0;34m\u001b[0m\n\u001b[1;32m      1\u001b[0m \u001b[0mTimestamp\u001b[0m \u001b[0;34m=\u001b[0m \u001b[0mtime\u001b[0m\u001b[0;34m.\u001b[0m\u001b[0mtime\u001b[0m\u001b[0;34m(\u001b[0m\u001b[0;34m)\u001b[0m\u001b[0;34m\u001b[0m\u001b[0;34m\u001b[0m\u001b[0m\n\u001b[0;32m----> 2\u001b[0;31m x=[Timestamp('2020-01-23 14:31:00'),Timestamp('2020-01-23 14:43:00'),\n\u001b[0m\u001b[1;32m      3\u001b[0m  \u001b[0mTimestamp\u001b[0m\u001b[0;34m(\u001b[0m\u001b[0;34m'2020-01-23 14:55:00'\u001b[0m\u001b[0;34m)\u001b[0m\u001b[0;34m,\u001b[0m\u001b[0;34m\u001b[0m\u001b[0;34m\u001b[0m\u001b[0m\n\u001b[1;32m      4\u001b[0m  \u001b[0mTimestamp\u001b[0m\u001b[0;34m(\u001b[0m\u001b[0;34m'2020-01-23 15:00:00'\u001b[0m\u001b[0;34m)\u001b[0m\u001b[0;34m,\u001b[0m\u001b[0;34m\u001b[0m\u001b[0;34m\u001b[0m\u001b[0m\n\u001b[1;32m      5\u001b[0m  \u001b[0mTimestamp\u001b[0m\u001b[0;34m(\u001b[0m\u001b[0;34m'2020-01-23 15:12:00'\u001b[0m\u001b[0;34m)\u001b[0m\u001b[0;34m,\u001b[0m\u001b[0;34m\u001b[0m\u001b[0;34m\u001b[0m\u001b[0m\n",
      "\u001b[0;31mTypeError\u001b[0m: 'float' object is not callable"
     ]
    }
   ],
   "source": [
    "Timestamp = time.time()\n",
    "x=[Timestamp('2020-01-23 14:31:00'),\n",
    " Timestamp('2020-01-23 14:43:00'),\n",
    " Timestamp('2020-01-23 14:55:00'),\n",
    " Timestamp('2020-01-23 15:00:00'),\n",
    " Timestamp('2020-01-23 15:12:00'),\n",
    " Timestamp('2020-01-23 15:31:00'),\n",
    " Timestamp('2020-01-23 15:39:00'),\n",
    " Timestamp('2020-01-23 15:40:00'),\n",
    " Timestamp('2020-01-23 15:59:00'),\n",
    " Timestamp('2020-01-30 12:14:00'),\n",
    " Timestamp('2020-01-30 12:55:00'),\n",
    " Timestamp('2020-01-30 12:58:00'),\n",
    " Timestamp('2020-01-30 13:06:00'),\n",
    " Timestamp('2020-01-30 14:09:00'),\n",
    " Timestamp('2020-02-04 15:17:00'),\n",
    " Timestamp('2020-02-05 07:24:00'),\n",
    " Timestamp('2020-02-05 07:46:00'),\n",
    " Timestamp('2020-02-06 23:15:00')]\n",
    "LDH=[297,306,312,320,327,317,312,304,298,326,320,314,307,295,309,305,296,325]\n",
    "plt.figure(figsize=(5,5))\n",
    "plt.plot(x,LDH,c='steelblue',marker='o',label='LDH')\n",
    "plt.xlabel('Time')\n",
    "plt.ylabel('Lactate dehydrogenase(LDH)(U/I)')\n",
    "plt.legend(loc='right')\n",
    "\n",
    "plt.xticks(x)\n",
    "#plt.savefig('MR.jpg', dpi=300)"
   ]
  },
  {
   "cell_type": "code",
   "execution_count": 8,
   "metadata": {},
   "outputs": [],
   "source": [
    "data=[[0.1,0.1,0.959],\n",
    "     [0.1,0.2,0.958],\n",
    "     [0.1,0.3,0.960],\n",
    "     [0.1,0.4,0.961],\n",
    "     [0.1,0.5,0.962],\n",
    "     [0.1,0.6,0.962],\n",
    "     [0.1,0.7,0.963],\n",
    "     [0.1,0.8,0.963],\n",
    "     [0.1,0.9,0.961],\n",
    "     [0.1,1,0.962],\n",
    "     [0.2,0.1,0.958],\n",
    "     [0.2,0.2,0.959],\n",
    "     [0.2,0.3,0.961],\n",
    "     [0.2,0.4,0.960],\n",
    "     [0.2,0.5,0.961],\n",
    "     [0.2,0.6,0.963],\n",
    "     [0.2,0.7,0.963],\n",
    "     [0.2,0.8,0.963],\n",
    "     [0.2,0.9,0.962],\n",
    "     [0.2,1,0.962],\n",
    "     [0.3,0.1,0.960],\n",
    "     [0.3,0.2,0.959],\n",
    "     [0.3,0.3,0.960],\n",
    "     [0.3,0.4,0.962],\n",
    "     [0.3,0.5,0.963],\n",
    "     [0.3,0.6,0.962],\n",
    "     [0.3,0.7,0.963],\n",
    "     [0.3,0.8,0.963],\n",
    "     [0.3,0.9,0.962],\n",
    "     [0.3,1,0.963],\n",
    "     [0.4,0.1,0.957],\n",
    "     [0.4,0.2,0.959],\n",
    "     [0.4,0.3,0.960],\n",
    "     [0.4,0.4,0.960],\n",
    "     [0.4,0.5,0.963],\n",
    "     [0.4,0.6,0.962],\n",
    "     [0.4,0.7,0.963],\n",
    "     [0.4,0.8,0.964],\n",
    "     [0.4,0.9,0.962],\n",
    "     [0.4,1,0.963],\n",
    "     [0.5,0.1,0.959],\n",
    "     [0.5,0.2,0.959],\n",
    "     [0.5,0.3,0.960],\n",
    "     [0.5,0.4,0.961],\n",
    "     [0.5,0.5,0.963],\n",
    "     [0.5,0.6,0.963],\n",
    "     [0.5,0.7,0.962],\n",
    "     [0.5,0.8,0.963],\n",
    "     [0.5,0.9,0.963],\n",
    "     [0.5,1,0.964],\n",
    "     [0.6,0.1,0.960],\n",
    "     [0.6,0.2,0.960],\n",
    "     [0.6,0.3,0.961],\n",
    "     [0.6,0.4,0.961],\n",
    "     [0.6,0.5,0.963],\n",
    "     [0.6,0.6,0.961],\n",
    "     [0.6,0.7,0.963],\n",
    "     [0.6,0.8,0.964],\n",
    "     [0.6,0.9,0.963],\n",
    "     [0.6,1,0.964],\n",
    "     [0.7,0.1,0.960],\n",
    "     [0.7,0.2,0.961],\n",
    "     [0.7,0.3,0.961],\n",
    "     [0.7,0.4,0.963],\n",
    "     [0.7,0.5,0.962],\n",
    "     [0.7,0.6,0.964],\n",
    "     [0.7,0.7,0.964],\n",
    "     [0.7,0.8,0.964],\n",
    "     [0.7,0.9,0.965],\n",
    "     [0.7,1,0.965],\n",
    "     [0.8,0.1,0.960],\n",
    "     [0.8,0.2,0.962],\n",
    "     [0.8,0.3,0.961],\n",
    "     [0.8,0.4,0.962],\n",
    "     [0.8,0.5,0.963],\n",
    "     [0.8,0.6,0.964],\n",
    "     [0.8,0.7,0.964],\n",
    "     [0.8,0.8,0.965],\n",
    "     [0.8,0.9,0.965],\n",
    "     [0.8,1,0.964],\n",
    "     [0.9,0.1,0.961],\n",
    "     [0.9,0.2,0.961],\n",
    "     [0.9,0.3,0.961],\n",
    "     [0.9,0.4,0.962],\n",
    "     [0.9,0.5,0.964],\n",
    "     [0.9,0.6,0.963],\n",
    "     [0.9,0.7,0.965],\n",
    "     [0.9,0.8,0.965],\n",
    "     [0.9,0.9,0.965],\n",
    "     [0.9,1,0.964],\n",
    "     [1,0.1,0.960],\n",
    "     [1,0.2,0.961],\n",
    "     [1,0.3,0.961],\n",
    "     [1,0.4,0.961],\n",
    "     [1,0.5,0.962],\n",
    "     [1,0.6,0.964],\n",
    "     [1,0.7,0.965],\n",
    "     [1,0.8,0.964],\n",
    "     [1,0.9,0.964],\n",
    "     [1,1,0.963]]"
   ]
  },
  {
   "cell_type": "code",
   "execution_count": 28,
   "metadata": {},
   "outputs": [],
   "source": [
    "d=[]\n",
    "row=[]\n",
    "n=0\n",
    "for i in range(100): \n",
    "    row.append(data[i][2])\n",
    "    n=n+1\n",
    "    if (n==10):\n",
    "        n=0\n",
    "        d.append(row)\n",
    "        row=[]\n",
    "    "
   ]
  },
  {
   "cell_type": "code",
   "execution_count": 29,
   "metadata": {},
   "outputs": [
    {
     "data": {
      "text/plain": [
       "[[0.959, 0.958, 0.96, 0.961, 0.962, 0.962, 0.963, 0.963, 0.961, 0.962],\n",
       " [0.958, 0.959, 0.961, 0.96, 0.961, 0.963, 0.963, 0.963, 0.962, 0.962],\n",
       " [0.96, 0.959, 0.96, 0.962, 0.963, 0.962, 0.963, 0.963, 0.962, 0.963],\n",
       " [0.957, 0.959, 0.96, 0.96, 0.963, 0.962, 0.963, 0.964, 0.962, 0.963],\n",
       " [0.959, 0.959, 0.96, 0.961, 0.963, 0.963, 0.962, 0.963, 0.963, 0.964],\n",
       " [0.96, 0.96, 0.961, 0.961, 0.963, 0.961, 0.963, 0.964, 0.963, 0.964],\n",
       " [0.96, 0.961, 0.961, 0.963, 0.962, 0.964, 0.964, 0.964, 0.965, 0.965],\n",
       " [0.96, 0.962, 0.961, 0.962, 0.963, 0.964, 0.964, 0.965, 0.965, 0.964],\n",
       " [0.961, 0.961, 0.961, 0.962, 0.964, 0.963, 0.965, 0.965, 0.965, 0.964],\n",
       " [0.96, 0.961, 0.961, 0.961, 0.962, 0.964, 0.965, 0.964, 0.964, 0.963]]"
      ]
     },
     "execution_count": 29,
     "metadata": {},
     "output_type": "execute_result"
    }
   ],
   "source": [
    "d"
   ]
  },
  {
   "cell_type": "code",
   "execution_count": 52,
   "metadata": {},
   "outputs": [
    {
     "data": {
      "image/png": "[encoded data removed]",
      "text/plain": [
       "<Figure size 648x864 with 2 Axes>"
      ]
     },
     "metadata": {
      "needs_background": "light"
     },
     "output_type": "display_data"
    }
   ],
   "source": [
    "\n",
    "fig, ax = plt.subplots(figsize = (9,12))\n",
    "#二维的数组的热力图，横轴和数轴的ticklabels要加上去的话，既可以通过将array转换成有column\n",
    "#和index的DataFrame直接绘图生成，也可以后续再加上去。后面加上去的话，更灵活，包括可设置labels大小方向等。\n",
    "sns.heatmap(d,annot=False, vmax=0.965,vmin = 0.957, xticklabels= False, yticklabels= False, square=True, cmap=\"YlGnBu\")\n",
    "#sns.heatmap(np.round(a,2), annot=True, vmax=1,vmin = 0, xticklabels= True, yticklabels= True, \n",
    "#            square=True, cmap=\"YlGnBu\")\n",
    "plt.savefig('1.jpg', dpi=300)"
   ]
  },
  {
   "cell_type": "code",
   "execution_count": 55,
   "metadata": {},
   "outputs": [],
   "source": [
    "\n",
    "k=[[0.965,0.965,0.964,0.963,0.960,0.958],\n",
    "  [0.965,0.965,0.964,0.962,0.962,0.959],\n",
    "  [0.964,0.964,0.963,0.963,0.961,0.957],\n",
    "  [0.963,0.963,0.963,0.963,0.962,0.957],\n",
    "  [0.961,0.962,0.961,0.960,0.958,0.956],\n",
    "  [0.961,0.961,0.960,0.961,0.959,0.957]]"
   ]
  },
  {
   "cell_type": "code",
   "execution_count": 56,
   "metadata": {},
   "outputs": [
    {
     "data": {
      "image/png": "[encoded data removed]",
      "text/plain": [
       "<Figure size 648x864 with 2 Axes>"
      ]
     },
     "metadata": {
      "needs_background": "light"
     },
     "output_type": "display_data"
    }
   ],
   "source": [
    "fig, ax = plt.subplots(figsize = (9,12))\n",
    "#二维的数组的热力图，横轴和数轴的ticklabels要加上去的话，既可以通过将array转换成有column\n",
    "#和index的DataFrame直接绘图生成，也可以后续再加上去。后面加上去的话，更灵活，包括可设置labels大小方向等。\n",
    "sns.heatmap(k,annot=False, vmax=0.965,vmin = 0.957, xticklabels= False, yticklabels= False, square=True, cmap=\"YlGnBu\")\n",
    "#sns.heatmap(np.round(a,2), annot=True, vmax=1,vmin = 0, xticklabels= True, yticklabels= True, \n",
    "#            square=True, cmap=\"YlGnBu\")\n",
    "plt.savefig('2.jpg', dpi=300)"
   ]
  },
  {
   "cell_type": "code",
   "execution_count": null,
   "metadata": {},
   "outputs": [],
   "source": []
  }
 ],
 "metadata": {
  "kernelspec": {
   "display_name": "Python 3",
   "language": "python",
   "name": "python3"
  },
  "language_info": {
   "codemirror_mode": {
    "name": "ipython",
    "version": 3
   },
   "file_extension": ".py",
   "mimetype": "text/x-python",
   "name": "python",
   "nbconvert_exporter": "python",
   "pygments_lexer": "ipython3",
   "version": "3.7.4"
  }
 },
 "nbformat": 4,
 "nbformat_minor": 2
}
